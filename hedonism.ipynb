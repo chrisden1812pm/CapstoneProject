{
 "cells": [
  {
   "cell_type": "markdown",
   "id": "d8b27883",
   "metadata": {},
   "source": [
    "# Blinded in the Hedonism Wine Shop\n",
    "\n",
    "Hedonism is a luxury wine merchant in central London, near Berkeley square.\n",
    "\n",
    "The wines retailed there aren't  what we'd call cheap.\n",
    "\n",
    "How can we make sense of a bottle that sells for £30 and one that sells for £3,000?\n",
    "\n",
    "Well, most very expensive bottles are from Burgundy and highly collectible, which makes them speculative and distorts prices. That much is conventional wisdom.\n",
    "\n",
    "However, how accurate are we to assume that such an easy criterion of high price per centiliter can be used to detect the \"Burgundy\" property of a wine on a list?\n",
    "\n",
    "Let's use a decision tree and see what it can teach us on how to blindly detect a Burgundy on a wine list (ie with no knowledge of the wine name).\n",
    "\n",
    "\n",
    "[NB: as this isnt a CNN, and given the explainability of the tree, we provide no model card.]"
   ]
  },
  {
   "cell_type": "code",
   "execution_count": 1,
   "id": "3c64f615",
   "metadata": {},
   "outputs": [],
   "source": [
    "import numpy as np\n",
    "import pandas as pd\n",
    "from sklearn import tree, ensemble\n",
    "from sklearn.tree import export_text"
   ]
  },
  {
   "cell_type": "markdown",
   "id": "e3652baf",
   "metadata": {},
   "source": [
    "# Data source\n",
    "\n",
    "We imported a csv from https://hedonism.co.uk/ and cleansed the dataset for a clean import into Jupyter.\n",
    "\n",
    "More data processing below."
   ]
  },
  {
   "cell_type": "code",
   "execution_count": 32,
   "id": "0716e532",
   "metadata": {},
   "outputs": [
    {
     "data": {
      "text/html": [
       "<div>\n",
       "<style scoped>\n",
       "    .dataframe tbody tr th:only-of-type {\n",
       "        vertical-align: middle;\n",
       "    }\n",
       "\n",
       "    .dataframe tbody tr th {\n",
       "        vertical-align: top;\n",
       "    }\n",
       "\n",
       "    .dataframe thead th {\n",
       "        text-align: right;\n",
       "    }\n",
       "</style>\n",
       "<table border=\"1\" class=\"dataframe\">\n",
       "  <thead>\n",
       "    <tr style=\"text-align: right;\">\n",
       "      <th></th>\n",
       "      <th>Code</th>\n",
       "      <th>Title</th>\n",
       "      <th>Vintage</th>\n",
       "      <th>Size</th>\n",
       "      <th>ABV</th>\n",
       "      <th>Style</th>\n",
       "      <th>Country</th>\n",
       "      <th>Group</th>\n",
       "      <th>Available</th>\n",
       "      <th>Price (inc VAT)</th>\n",
       "      <th>Price (ex-VAT)</th>\n",
       "      <th>Link</th>\n",
       "    </tr>\n",
       "  </thead>\n",
       "  <tbody>\n",
       "    <tr>\n",
       "      <th>0</th>\n",
       "      <td>HED27286</td>\n",
       "      <td>Ruppert Leroy 11 12 13</td>\n",
       "      <td>NaN</td>\n",
       "      <td>75cl</td>\n",
       "      <td>12.0</td>\n",
       "      <td>White</td>\n",
       "      <td>France</td>\n",
       "      <td>Champagne</td>\n",
       "      <td>2</td>\n",
       "      <td>79.0</td>\n",
       "      <td>65.83</td>\n",
       "      <td>https://hedonism.co.uk/product/ruppert-leroy-1...</td>\n",
       "    </tr>\n",
       "    <tr>\n",
       "      <th>1</th>\n",
       "      <td>HED1936</td>\n",
       "      <td>Jura Vin Jaune 1774</td>\n",
       "      <td>1774</td>\n",
       "      <td>62cl</td>\n",
       "      <td>12.0</td>\n",
       "      <td>White</td>\n",
       "      <td>France</td>\n",
       "      <td>Regional France</td>\n",
       "      <td>1</td>\n",
       "      <td>42400.0</td>\n",
       "      <td>35333.33</td>\n",
       "      <td>https://hedonism.co.uk/product/jura-vin-jaune-...</td>\n",
       "    </tr>\n",
       "    <tr>\n",
       "      <th>2</th>\n",
       "      <td>HED94290</td>\n",
       "      <td>Constantia Sweet Wine Half 1791</td>\n",
       "      <td>1791</td>\n",
       "      <td>37.5cl</td>\n",
       "      <td>NaN</td>\n",
       "      <td>White</td>\n",
       "      <td>South Africa</td>\n",
       "      <td>South Africa</td>\n",
       "      <td>1</td>\n",
       "      <td>16600.0</td>\n",
       "      <td>13833.33</td>\n",
       "      <td>https://hedonism.co.uk/product/constantia-swee...</td>\n",
       "    </tr>\n",
       "    <tr>\n",
       "      <th>3</th>\n",
       "      <td>HED2234</td>\n",
       "      <td>Yquem 1847</td>\n",
       "      <td>1847</td>\n",
       "      <td>75cl</td>\n",
       "      <td>13.0</td>\n",
       "      <td>White</td>\n",
       "      <td>France</td>\n",
       "      <td>Sauternes &amp; Barsac</td>\n",
       "      <td>1</td>\n",
       "      <td>59900.0</td>\n",
       "      <td>49916.67</td>\n",
       "      <td>https://hedonism.co.uk/product/yquem-1847</td>\n",
       "    </tr>\n",
       "    <tr>\n",
       "      <th>4</th>\n",
       "      <td>HED33509</td>\n",
       "      <td>Yquem (Recorked 1996) 1873</td>\n",
       "      <td>1873</td>\n",
       "      <td>75cl</td>\n",
       "      <td>13.0</td>\n",
       "      <td>White</td>\n",
       "      <td>France</td>\n",
       "      <td>Sauternes &amp; Barsac</td>\n",
       "      <td>1</td>\n",
       "      <td>10700.0</td>\n",
       "      <td>8916.67</td>\n",
       "      <td>https://hedonism.co.uk/product/yquem-recorked-...</td>\n",
       "    </tr>\n",
       "  </tbody>\n",
       "</table>\n",
       "</div>"
      ],
      "text/plain": [
       "       Code                            Title Vintage    Size   ABV  Style  \\\n",
       "0  HED27286           Ruppert Leroy 11 12 13     NaN    75cl  12.0  White   \n",
       "1   HED1936              Jura Vin Jaune 1774    1774    62cl  12.0  White   \n",
       "2  HED94290  Constantia Sweet Wine Half 1791    1791  37.5cl   NaN  White   \n",
       "3   HED2234                       Yquem 1847    1847    75cl  13.0  White   \n",
       "4  HED33509       Yquem (Recorked 1996) 1873    1873    75cl  13.0  White   \n",
       "\n",
       "        Country               Group  Available  Price (inc VAT)  \\\n",
       "0        France           Champagne          2             79.0   \n",
       "1        France     Regional France          1          42400.0   \n",
       "2  South Africa        South Africa          1          16600.0   \n",
       "3        France  Sauternes & Barsac          1          59900.0   \n",
       "4        France  Sauternes & Barsac          1          10700.0   \n",
       "\n",
       "   Price (ex-VAT)                                               Link  \n",
       "0           65.83  https://hedonism.co.uk/product/ruppert-leroy-1...  \n",
       "1        35333.33  https://hedonism.co.uk/product/jura-vin-jaune-...  \n",
       "2        13833.33  https://hedonism.co.uk/product/constantia-swee...  \n",
       "3        49916.67          https://hedonism.co.uk/product/yquem-1847  \n",
       "4         8916.67  https://hedonism.co.uk/product/yquem-recorked-...  "
      ]
     },
     "execution_count": 32,
     "metadata": {},
     "output_type": "execute_result"
    }
   ],
   "source": [
    "# Load an Excel file into a pandas DataFrame\n",
    "df = pd.read_csv('hedonism.csv', sep=';')\n",
    "df.head()"
   ]
  },
  {
   "cell_type": "markdown",
   "id": "fe8fc81b",
   "metadata": {},
   "source": [
    "### Wine Drops\n",
    "Price inc or ex VAT contain the same information so we drop one column.\n",
    "\n",
    "We also drop the product Code which is arbitrary and the link to the website which is destined for human consumption.\n",
    "\n",
    "We decide to keep the \"available\" column which may be indicative of scarcity, and scarce collectibles are more valuable."
   ]
  },
  {
   "cell_type": "code",
   "execution_count": 34,
   "id": "ed634cce",
   "metadata": {},
   "outputs": [],
   "source": [
    "df = df.drop(['Code', 'Price (ex-VAT)', 'Link'], axis=1)\n",
    "df = df.drop(['Title'], axis=1)\n",
    "# The df has thousands of rows... loads to learn. Let's drop NaNs and see how many lines are left.\n",
    "\n",
    "# Replace empty strings with NaN, then drop rows with NaN in 'Vintage'\n",
    "df['Vintage'].replace('', float('NaN'), inplace=True)\n",
    "df = df.dropna(subset=['Vintage'])\n",
    "df['ABV'].replace('', float('NaN'), inplace=True)\n",
    "df = df.dropna(subset=['ABV'])\n",
    "# This gets rid of glassware items on the list."
   ]
  },
  {
   "cell_type": "markdown",
   "id": "ad8e1f16",
   "metadata": {},
   "source": [
    "# Cleansed dataset, normalisation\n",
    "\n",
    "With about 7k lines left, that leaves us still plenty of drinking pleasure to look forward to.\n",
    "\n",
    "We then normalise all prices by the bottle size to get a sterling price per cl."
   ]
  },
  {
   "cell_type": "code",
   "execution_count": 35,
   "id": "bbf4a24d",
   "metadata": {},
   "outputs": [],
   "source": [
    "df['Size'] = df['Size'].str.replace('cl', '').astype(float)\n",
    "df['PricePerCl'] = df['Price (inc VAT)'] / df['Size']\n",
    "# Drop the Price (inc VAT) column as with Size it now fully determines Normalise price. \n",
    "df = df.drop(['Price (inc VAT)'], axis=1)"
   ]
  },
  {
   "cell_type": "markdown",
   "id": "231c083d",
   "metadata": {},
   "source": [
    "# Categories\n",
    "\n",
    "We surmise that reds are dearer than whites and that French wines are dearer than the rest, in particular if they're from Burgundy in older vintages.\n",
    "\n",
    "Let's learn from data and see if red Burgs are indeed detectable from price.\n",
    "\n",
    "One clear property is that they should be in France, so that much should be learnt easily from the tree.\n",
    "\n",
    "We'll categorise Style and Country, before setting Group (aka region) to true for Burgundy and false for the rest. "
   ]
  },
  {
   "cell_type": "code",
   "execution_count": 36,
   "id": "6adf7ec5",
   "metadata": {},
   "outputs": [
    {
     "data": {
      "text/plain": [
       "1           Regional France\n",
       "3        Sauternes & Barsac\n",
       "4        Sauternes & Barsac\n",
       "5                   Madeira\n",
       "6                    Sherry\n",
       "               ...         \n",
       "6994               Burgundy\n",
       "6995         Northern Rhone\n",
       "6996                    USA\n",
       "6997    Non-Alcoholic Wines\n",
       "6998                  Italy\n",
       "Name: Group, Length: 6796, dtype: object"
      ]
     },
     "execution_count": 36,
     "metadata": {},
     "output_type": "execute_result"
    }
   ],
   "source": [
    "# Convert 'Style', 'Country', and 'Group' to dummy variables\n",
    "df = pd.get_dummies(df, columns=['Style', 'Country'])\n",
    "df['is_burgundy'] = df['Group'] == 'Burgundy'\n",
    "df.pop('Group')"
   ]
  },
  {
   "cell_type": "markdown",
   "id": "c6456830",
   "metadata": {},
   "source": [
    "# Shuffling the data"
   ]
  },
  {
   "cell_type": "code",
   "execution_count": 37,
   "id": "aaeb99b9",
   "metadata": {},
   "outputs": [
    {
     "data": {
      "text/html": [
       "<div>\n",
       "<style scoped>\n",
       "    .dataframe tbody tr th:only-of-type {\n",
       "        vertical-align: middle;\n",
       "    }\n",
       "\n",
       "    .dataframe tbody tr th {\n",
       "        vertical-align: top;\n",
       "    }\n",
       "\n",
       "    .dataframe thead th {\n",
       "        text-align: right;\n",
       "    }\n",
       "</style>\n",
       "<table border=\"1\" class=\"dataframe\">\n",
       "  <thead>\n",
       "    <tr style=\"text-align: right;\">\n",
       "      <th></th>\n",
       "      <th>Vintage</th>\n",
       "      <th>Size</th>\n",
       "      <th>ABV</th>\n",
       "      <th>Available</th>\n",
       "      <th>PricePerCl</th>\n",
       "      <th>Style_Red</th>\n",
       "      <th>Style_Rose</th>\n",
       "      <th>Style_White</th>\n",
       "      <th>Country_Argentina</th>\n",
       "      <th>Country_Armenia</th>\n",
       "      <th>...</th>\n",
       "      <th>Country_Slovakia</th>\n",
       "      <th>Country_Slovenia</th>\n",
       "      <th>Country_South Africa</th>\n",
       "      <th>Country_Spain</th>\n",
       "      <th>Country_Switzerland</th>\n",
       "      <th>Country_Syria</th>\n",
       "      <th>Country_Ukraine</th>\n",
       "      <th>Country_United States</th>\n",
       "      <th>Country_Uruguay</th>\n",
       "      <th>is_burgundy</th>\n",
       "    </tr>\n",
       "  </thead>\n",
       "  <tbody>\n",
       "    <tr>\n",
       "      <th>1</th>\n",
       "      <td>1774.0</td>\n",
       "      <td>62.0</td>\n",
       "      <td>12.0</td>\n",
       "      <td>1</td>\n",
       "      <td>683.870968</td>\n",
       "      <td>False</td>\n",
       "      <td>False</td>\n",
       "      <td>True</td>\n",
       "      <td>False</td>\n",
       "      <td>False</td>\n",
       "      <td>...</td>\n",
       "      <td>False</td>\n",
       "      <td>False</td>\n",
       "      <td>False</td>\n",
       "      <td>False</td>\n",
       "      <td>False</td>\n",
       "      <td>False</td>\n",
       "      <td>False</td>\n",
       "      <td>False</td>\n",
       "      <td>False</td>\n",
       "      <td>False</td>\n",
       "    </tr>\n",
       "    <tr>\n",
       "      <th>3</th>\n",
       "      <td>1847.0</td>\n",
       "      <td>75.0</td>\n",
       "      <td>13.0</td>\n",
       "      <td>1</td>\n",
       "      <td>798.666667</td>\n",
       "      <td>False</td>\n",
       "      <td>False</td>\n",
       "      <td>True</td>\n",
       "      <td>False</td>\n",
       "      <td>False</td>\n",
       "      <td>...</td>\n",
       "      <td>False</td>\n",
       "      <td>False</td>\n",
       "      <td>False</td>\n",
       "      <td>False</td>\n",
       "      <td>False</td>\n",
       "      <td>False</td>\n",
       "      <td>False</td>\n",
       "      <td>False</td>\n",
       "      <td>False</td>\n",
       "      <td>False</td>\n",
       "    </tr>\n",
       "    <tr>\n",
       "      <th>4</th>\n",
       "      <td>1873.0</td>\n",
       "      <td>75.0</td>\n",
       "      <td>13.0</td>\n",
       "      <td>1</td>\n",
       "      <td>142.666667</td>\n",
       "      <td>False</td>\n",
       "      <td>False</td>\n",
       "      <td>True</td>\n",
       "      <td>False</td>\n",
       "      <td>False</td>\n",
       "      <td>...</td>\n",
       "      <td>False</td>\n",
       "      <td>False</td>\n",
       "      <td>False</td>\n",
       "      <td>False</td>\n",
       "      <td>False</td>\n",
       "      <td>False</td>\n",
       "      <td>False</td>\n",
       "      <td>False</td>\n",
       "      <td>False</td>\n",
       "      <td>False</td>\n",
       "    </tr>\n",
       "    <tr>\n",
       "      <th>5</th>\n",
       "      <td>1875.0</td>\n",
       "      <td>75.0</td>\n",
       "      <td>20.0</td>\n",
       "      <td>1</td>\n",
       "      <td>15.200000</td>\n",
       "      <td>False</td>\n",
       "      <td>False</td>\n",
       "      <td>True</td>\n",
       "      <td>False</td>\n",
       "      <td>False</td>\n",
       "      <td>...</td>\n",
       "      <td>False</td>\n",
       "      <td>False</td>\n",
       "      <td>False</td>\n",
       "      <td>False</td>\n",
       "      <td>False</td>\n",
       "      <td>False</td>\n",
       "      <td>False</td>\n",
       "      <td>False</td>\n",
       "      <td>False</td>\n",
       "      <td>False</td>\n",
       "    </tr>\n",
       "    <tr>\n",
       "      <th>6</th>\n",
       "      <td>1891.0</td>\n",
       "      <td>75.0</td>\n",
       "      <td>20.0</td>\n",
       "      <td>1</td>\n",
       "      <td>73.600000</td>\n",
       "      <td>False</td>\n",
       "      <td>False</td>\n",
       "      <td>True</td>\n",
       "      <td>False</td>\n",
       "      <td>False</td>\n",
       "      <td>...</td>\n",
       "      <td>False</td>\n",
       "      <td>False</td>\n",
       "      <td>False</td>\n",
       "      <td>True</td>\n",
       "      <td>False</td>\n",
       "      <td>False</td>\n",
       "      <td>False</td>\n",
       "      <td>False</td>\n",
       "      <td>False</td>\n",
       "      <td>False</td>\n",
       "    </tr>\n",
       "    <tr>\n",
       "      <th>...</th>\n",
       "      <td>...</td>\n",
       "      <td>...</td>\n",
       "      <td>...</td>\n",
       "      <td>...</td>\n",
       "      <td>...</td>\n",
       "      <td>...</td>\n",
       "      <td>...</td>\n",
       "      <td>...</td>\n",
       "      <td>...</td>\n",
       "      <td>...</td>\n",
       "      <td>...</td>\n",
       "      <td>...</td>\n",
       "      <td>...</td>\n",
       "      <td>...</td>\n",
       "      <td>...</td>\n",
       "      <td>...</td>\n",
       "      <td>...</td>\n",
       "      <td>...</td>\n",
       "      <td>...</td>\n",
       "      <td>...</td>\n",
       "      <td>...</td>\n",
       "    </tr>\n",
       "    <tr>\n",
       "      <th>6994</th>\n",
       "      <td>2020.0</td>\n",
       "      <td>75.0</td>\n",
       "      <td>12.5</td>\n",
       "      <td>4</td>\n",
       "      <td>1.228000</td>\n",
       "      <td>False</td>\n",
       "      <td>False</td>\n",
       "      <td>True</td>\n",
       "      <td>False</td>\n",
       "      <td>False</td>\n",
       "      <td>...</td>\n",
       "      <td>False</td>\n",
       "      <td>False</td>\n",
       "      <td>False</td>\n",
       "      <td>False</td>\n",
       "      <td>False</td>\n",
       "      <td>False</td>\n",
       "      <td>False</td>\n",
       "      <td>False</td>\n",
       "      <td>False</td>\n",
       "      <td>True</td>\n",
       "    </tr>\n",
       "    <tr>\n",
       "      <th>6995</th>\n",
       "      <td>2021.0</td>\n",
       "      <td>75.0</td>\n",
       "      <td>13.5</td>\n",
       "      <td>4</td>\n",
       "      <td>0.452000</td>\n",
       "      <td>True</td>\n",
       "      <td>False</td>\n",
       "      <td>False</td>\n",
       "      <td>False</td>\n",
       "      <td>False</td>\n",
       "      <td>...</td>\n",
       "      <td>False</td>\n",
       "      <td>False</td>\n",
       "      <td>False</td>\n",
       "      <td>False</td>\n",
       "      <td>False</td>\n",
       "      <td>False</td>\n",
       "      <td>False</td>\n",
       "      <td>False</td>\n",
       "      <td>False</td>\n",
       "      <td>False</td>\n",
       "    </tr>\n",
       "    <tr>\n",
       "      <th>6996</th>\n",
       "      <td>2021.0</td>\n",
       "      <td>75.0</td>\n",
       "      <td>13.0</td>\n",
       "      <td>11</td>\n",
       "      <td>0.400000</td>\n",
       "      <td>False</td>\n",
       "      <td>False</td>\n",
       "      <td>True</td>\n",
       "      <td>False</td>\n",
       "      <td>False</td>\n",
       "      <td>...</td>\n",
       "      <td>False</td>\n",
       "      <td>False</td>\n",
       "      <td>False</td>\n",
       "      <td>False</td>\n",
       "      <td>False</td>\n",
       "      <td>False</td>\n",
       "      <td>False</td>\n",
       "      <td>True</td>\n",
       "      <td>False</td>\n",
       "      <td>False</td>\n",
       "    </tr>\n",
       "    <tr>\n",
       "      <th>6997</th>\n",
       "      <td>2022.0</td>\n",
       "      <td>75.0</td>\n",
       "      <td>0.3</td>\n",
       "      <td>9</td>\n",
       "      <td>0.145333</td>\n",
       "      <td>True</td>\n",
       "      <td>False</td>\n",
       "      <td>False</td>\n",
       "      <td>False</td>\n",
       "      <td>False</td>\n",
       "      <td>...</td>\n",
       "      <td>False</td>\n",
       "      <td>False</td>\n",
       "      <td>False</td>\n",
       "      <td>True</td>\n",
       "      <td>False</td>\n",
       "      <td>False</td>\n",
       "      <td>False</td>\n",
       "      <td>False</td>\n",
       "      <td>False</td>\n",
       "      <td>False</td>\n",
       "    </tr>\n",
       "    <tr>\n",
       "      <th>6998</th>\n",
       "      <td>2022.0</td>\n",
       "      <td>75.0</td>\n",
       "      <td>13.0</td>\n",
       "      <td>5</td>\n",
       "      <td>0.329333</td>\n",
       "      <td>False</td>\n",
       "      <td>False</td>\n",
       "      <td>True</td>\n",
       "      <td>False</td>\n",
       "      <td>False</td>\n",
       "      <td>...</td>\n",
       "      <td>False</td>\n",
       "      <td>False</td>\n",
       "      <td>False</td>\n",
       "      <td>False</td>\n",
       "      <td>False</td>\n",
       "      <td>False</td>\n",
       "      <td>False</td>\n",
       "      <td>False</td>\n",
       "      <td>False</td>\n",
       "      <td>False</td>\n",
       "    </tr>\n",
       "  </tbody>\n",
       "</table>\n",
       "<p>6796 rows × 44 columns</p>\n",
       "</div>"
      ],
      "text/plain": [
       "      Vintage  Size   ABV  Available  PricePerCl  Style_Red  Style_Rose  \\\n",
       "1      1774.0  62.0  12.0          1  683.870968      False       False   \n",
       "3      1847.0  75.0  13.0          1  798.666667      False       False   \n",
       "4      1873.0  75.0  13.0          1  142.666667      False       False   \n",
       "5      1875.0  75.0  20.0          1   15.200000      False       False   \n",
       "6      1891.0  75.0  20.0          1   73.600000      False       False   \n",
       "...       ...   ...   ...        ...         ...        ...         ...   \n",
       "6994   2020.0  75.0  12.5          4    1.228000      False       False   \n",
       "6995   2021.0  75.0  13.5          4    0.452000       True       False   \n",
       "6996   2021.0  75.0  13.0         11    0.400000      False       False   \n",
       "6997   2022.0  75.0   0.3          9    0.145333       True       False   \n",
       "6998   2022.0  75.0  13.0          5    0.329333      False       False   \n",
       "\n",
       "      Style_White  Country_Argentina  Country_Armenia  ...  Country_Slovakia  \\\n",
       "1            True              False            False  ...             False   \n",
       "3            True              False            False  ...             False   \n",
       "4            True              False            False  ...             False   \n",
       "5            True              False            False  ...             False   \n",
       "6            True              False            False  ...             False   \n",
       "...           ...                ...              ...  ...               ...   \n",
       "6994         True              False            False  ...             False   \n",
       "6995        False              False            False  ...             False   \n",
       "6996         True              False            False  ...             False   \n",
       "6997        False              False            False  ...             False   \n",
       "6998         True              False            False  ...             False   \n",
       "\n",
       "      Country_Slovenia  Country_South Africa  Country_Spain  \\\n",
       "1                False                 False          False   \n",
       "3                False                 False          False   \n",
       "4                False                 False          False   \n",
       "5                False                 False          False   \n",
       "6                False                 False           True   \n",
       "...                ...                   ...            ...   \n",
       "6994             False                 False          False   \n",
       "6995             False                 False          False   \n",
       "6996             False                 False          False   \n",
       "6997             False                 False           True   \n",
       "6998             False                 False          False   \n",
       "\n",
       "      Country_Switzerland  Country_Syria  Country_Ukraine  \\\n",
       "1                   False          False            False   \n",
       "3                   False          False            False   \n",
       "4                   False          False            False   \n",
       "5                   False          False            False   \n",
       "6                   False          False            False   \n",
       "...                   ...            ...              ...   \n",
       "6994                False          False            False   \n",
       "6995                False          False            False   \n",
       "6996                False          False            False   \n",
       "6997                False          False            False   \n",
       "6998                False          False            False   \n",
       "\n",
       "      Country_United States  Country_Uruguay  is_burgundy  \n",
       "1                     False            False        False  \n",
       "3                     False            False        False  \n",
       "4                     False            False        False  \n",
       "5                     False            False        False  \n",
       "6                     False            False        False  \n",
       "...                     ...              ...          ...  \n",
       "6994                  False            False         True  \n",
       "6995                  False            False        False  \n",
       "6996                   True            False        False  \n",
       "6997                  False            False        False  \n",
       "6998                  False            False        False  \n",
       "\n",
       "[6796 rows x 44 columns]"
      ]
     },
     "execution_count": 37,
     "metadata": {},
     "output_type": "execute_result"
    }
   ],
   "source": [
    "# Convert all columns to numeric, coercing errors to NaN\n",
    "df_cleaned = df.apply(lambda x: pd.to_numeric(x, errors='coerce'))\n",
    "# Optionally, fill NaN values (you can also drop them if preferred)\n",
    "df_cleaned = df_cleaned.fillna(df_cleaned.median())  # Replace NaN with median\n",
    "df_cleaned"
   ]
  },
  {
   "cell_type": "code",
   "execution_count": 38,
   "id": "7d1b6a4f",
   "metadata": {},
   "outputs": [
    {
     "name": "stdout",
     "output_type": "stream",
     "text": [
      "6796\n",
      "6796\n"
     ]
    }
   ],
   "source": [
    "Xy=np.array(df_cleaned)\n",
    "seed = np.random.seed(1)\n",
    "np.random.shuffle(Xy)\n",
    "X=Xy[:,:-1]\n",
    "y=Xy[:,-1]\n",
    "\n",
    "total_size = len(X)\n",
    "print(total_size)\n",
    "print(len(y))\n",
    "# Define sizes for training, validation, and test sets as percentages\n",
    "train_size_percentage = 0.50\n",
    "val_size_percentage = 0.25\n",
    "# Calculate the number of rows for each split\n",
    "train_size = int(total_size * train_size_percentage)\n",
    "val_size = int(total_size * val_size_percentage)\n",
    "# Split the data\n",
    "X_train = X[:train_size]\n",
    "X_val = X[train_size:train_size + val_size]\n",
    "X_test = X[train_size + val_size:]\n",
    "\n",
    "y=y.astype('int')  # don't forget this !\n",
    "y_train = y[:train_size]\n",
    "y_val = y[train_size:train_size + val_size]\n",
    "y_test = y[train_size + val_size:]"
   ]
  },
  {
   "cell_type": "markdown",
   "id": "5a1a575e",
   "metadata": {},
   "source": [
    "# Naive Benchmarks\n",
    "\n",
    "First we assume all wines are Burgundies."
   ]
  },
  {
   "cell_type": "code",
   "execution_count": 39,
   "id": "67adbc9e",
   "metadata": {},
   "outputs": [
    {
     "name": "stdout",
     "output_type": "stream",
     "text": [
      "Naïve guess train and validation 0.20806356680400234 0.20659211300765157\n"
     ]
    }
   ],
   "source": [
    "acc_train = np.sum(y_train) / len(y_train)\n",
    "acc_val = np.sum(y_val) / len(y_val)\n",
    "print ( 'Naïve guess train and validation', acc_train , acc_val)"
   ]
  },
  {
   "cell_type": "markdown",
   "id": "dd8db071",
   "metadata": {},
   "source": [
    "About 1 in 5 actually is.\n",
    "\n",
    "Then we wonder how are we doing if we assume that any French wine above 10GBP per cl is from Burgundy?"
   ]
  },
  {
   "cell_type": "code",
   "execution_count": 40,
   "id": "88ca4db6",
   "metadata": {},
   "outputs": [
    {
     "name": "stdout",
     "output_type": "stream",
     "text": [
      "Accuracy: 0.8172454384932313\n"
     ]
    }
   ],
   "source": [
    "condition =  (df['Country_France'] == True) & (df['PricePerCl'] > 10)\n",
    "# Step 2: Compare the condition with the actual boolean array\n",
    "correct_predictions = condition == (df['is_burgundy'] == True)\n",
    "# Step 3: Calculate the accuracy (number of correct predictions / total)\n",
    "accuracy = np.sum(correct_predictions) / len(correct_predictions)\n",
    "print(f\"Accuracy: {accuracy}\")"
   ]
  },
  {
   "cell_type": "markdown",
   "id": "76b8bb8f",
   "metadata": {},
   "source": [
    "That's not too poor a guess!\n",
    "Let's see if a DT adds substantial value."
   ]
  },
  {
   "cell_type": "code",
   "execution_count": 41,
   "id": "3d3393ab",
   "metadata": {},
   "outputs": [
    {
     "data": {
      "text/html": [
       "<style>#sk-container-id-1 {color: black;background-color: white;}#sk-container-id-1 pre{padding: 0;}#sk-container-id-1 div.sk-toggleable {background-color: white;}#sk-container-id-1 label.sk-toggleable__label {cursor: pointer;display: block;width: 100%;margin-bottom: 0;padding: 0.3em;box-sizing: border-box;text-align: center;}#sk-container-id-1 label.sk-toggleable__label-arrow:before {content: \"▸\";float: left;margin-right: 0.25em;color: #696969;}#sk-container-id-1 label.sk-toggleable__label-arrow:hover:before {color: black;}#sk-container-id-1 div.sk-estimator:hover label.sk-toggleable__label-arrow:before {color: black;}#sk-container-id-1 div.sk-toggleable__content {max-height: 0;max-width: 0;overflow: hidden;text-align: left;background-color: #f0f8ff;}#sk-container-id-1 div.sk-toggleable__content pre {margin: 0.2em;color: black;border-radius: 0.25em;background-color: #f0f8ff;}#sk-container-id-1 input.sk-toggleable__control:checked~div.sk-toggleable__content {max-height: 200px;max-width: 100%;overflow: auto;}#sk-container-id-1 input.sk-toggleable__control:checked~label.sk-toggleable__label-arrow:before {content: \"▾\";}#sk-container-id-1 div.sk-estimator input.sk-toggleable__control:checked~label.sk-toggleable__label {background-color: #d4ebff;}#sk-container-id-1 div.sk-label input.sk-toggleable__control:checked~label.sk-toggleable__label {background-color: #d4ebff;}#sk-container-id-1 input.sk-hidden--visually {border: 0;clip: rect(1px 1px 1px 1px);clip: rect(1px, 1px, 1px, 1px);height: 1px;margin: -1px;overflow: hidden;padding: 0;position: absolute;width: 1px;}#sk-container-id-1 div.sk-estimator {font-family: monospace;background-color: #f0f8ff;border: 1px dotted black;border-radius: 0.25em;box-sizing: border-box;margin-bottom: 0.5em;}#sk-container-id-1 div.sk-estimator:hover {background-color: #d4ebff;}#sk-container-id-1 div.sk-parallel-item::after {content: \"\";width: 100%;border-bottom: 1px solid gray;flex-grow: 1;}#sk-container-id-1 div.sk-label:hover label.sk-toggleable__label {background-color: #d4ebff;}#sk-container-id-1 div.sk-serial::before {content: \"\";position: absolute;border-left: 1px solid gray;box-sizing: border-box;top: 0;bottom: 0;left: 50%;z-index: 0;}#sk-container-id-1 div.sk-serial {display: flex;flex-direction: column;align-items: center;background-color: white;padding-right: 0.2em;padding-left: 0.2em;position: relative;}#sk-container-id-1 div.sk-item {position: relative;z-index: 1;}#sk-container-id-1 div.sk-parallel {display: flex;align-items: stretch;justify-content: center;background-color: white;position: relative;}#sk-container-id-1 div.sk-item::before, #sk-container-id-1 div.sk-parallel-item::before {content: \"\";position: absolute;border-left: 1px solid gray;box-sizing: border-box;top: 0;bottom: 0;left: 50%;z-index: -1;}#sk-container-id-1 div.sk-parallel-item {display: flex;flex-direction: column;z-index: 1;position: relative;background-color: white;}#sk-container-id-1 div.sk-parallel-item:first-child::after {align-self: flex-end;width: 50%;}#sk-container-id-1 div.sk-parallel-item:last-child::after {align-self: flex-start;width: 50%;}#sk-container-id-1 div.sk-parallel-item:only-child::after {width: 0;}#sk-container-id-1 div.sk-dashed-wrapped {border: 1px dashed gray;margin: 0 0.4em 0.5em 0.4em;box-sizing: border-box;padding-bottom: 0.4em;background-color: white;}#sk-container-id-1 div.sk-label label {font-family: monospace;font-weight: bold;display: inline-block;line-height: 1.2em;}#sk-container-id-1 div.sk-label-container {text-align: center;}#sk-container-id-1 div.sk-container {/* jupyter's `normalize.less` sets `[hidden] { display: none; }` but bootstrap.min.css set `[hidden] { display: none !important; }` so we also need the `!important` here to be able to override the default hidden behavior on the sphinx rendered scikit-learn.org. See: https://github.com/scikit-learn/scikit-learn/issues/21755 */display: inline-block !important;position: relative;}#sk-container-id-1 div.sk-text-repr-fallback {display: none;}</style><div id=\"sk-container-id-1\" class=\"sk-top-container\"><div class=\"sk-text-repr-fallback\"><pre>DecisionTreeClassifier()</pre><b>In a Jupyter environment, please rerun this cell to show the HTML representation or trust the notebook. <br />On GitHub, the HTML representation is unable to render, please try loading this page with nbviewer.org.</b></div><div class=\"sk-container\" hidden><div class=\"sk-item\"><div class=\"sk-estimator sk-toggleable\"><input class=\"sk-toggleable__control sk-hidden--visually\" id=\"sk-estimator-id-1\" type=\"checkbox\" checked><label for=\"sk-estimator-id-1\" class=\"sk-toggleable__label sk-toggleable__label-arrow\">DecisionTreeClassifier</label><div class=\"sk-toggleable__content\"><pre>DecisionTreeClassifier()</pre></div></div></div></div></div>"
      ],
      "text/plain": [
       "DecisionTreeClassifier()"
      ]
     },
     "execution_count": 41,
     "metadata": {},
     "output_type": "execute_result"
    }
   ],
   "source": [
    "# Define the DecisionTreeClassifier\n",
    "clf = tree.DecisionTreeClassifier()\n",
    "# Fit X_train and y_train\n",
    "clf.fit(X_train, y_train)"
   ]
  },
  {
   "cell_type": "code",
   "execution_count": 42,
   "id": "9142025f",
   "metadata": {},
   "outputs": [
    {
     "name": "stdout",
     "output_type": "stream",
     "text": [
      "Full tree guess train/validation  0.9997057092407299 0.8893466745144203\n"
     ]
    }
   ],
   "source": [
    "print ( 'Full tree guess train/validation ',clf.score(X_train, y_train),clf.score(X_val, y_val))"
   ]
  },
  {
   "cell_type": "code",
   "execution_count": 45,
   "id": "e8d17bb2",
   "metadata": {},
   "outputs": [],
   "source": [
    "# Looks like we overfitted, let's look at the rules and see how complicated they are, \n",
    "# before we cut down the tree depth.\n",
    "df2 = df.copy()\n",
    "df2.drop(columns='is_burgundy', axis=1, inplace=True)\n",
    "feature_names = df2.columns.tolist()\n",
    "# print(feature_names)\n",
    "tree_rules = export_text(clf, feature_names=feature_names)\n",
    "# print(tree_rules)"
   ]
  },
  {
   "cell_type": "markdown",
   "id": "ffbab0a5",
   "metadata": {},
   "source": [
    "Rules look super complicated, Occam wouldn't be proud."
   ]
  },
  {
   "cell_type": "code",
   "execution_count": 46,
   "id": "6f90a1ab",
   "metadata": {},
   "outputs": [
    {
     "name": "stdout",
     "output_type": "stream",
     "text": [
      "Depth: 1 Train Score: 0.7919364331959976 Validation Score: 0.7934078869923484\n",
      "Depth: 2 Train Score: 0.8134196586227193 Validation Score: 0.8145968216597999\n",
      "Depth: 3 Train Score: 0.8608004708652148 Validation Score: 0.8404944084755739\n",
      "Depth: 4 Train Score: 0.8755150088287228 Validation Score: 0.8563861094761624\n",
      "Depth: 5 Train Score: 0.8866980576809889 Validation Score: 0.8628605061801059\n",
      "Depth: 6 Train Score: 0.898175397292525 Validation Score: 0.872277810476751\n",
      "Depth: 7 Train Score: 0.9111241907004121 Validation Score: 0.8887580929958799\n",
      "Depth: 8 Train Score: 0.9187757504414361 Validation Score: 0.8893466745144203\n",
      "Depth: 9 Train Score: 0.9287816362566216 Validation Score: 0.8964096527369041\n",
      "Depth: 10 Train Score: 0.9446733372572101 Validation Score: 0.8969982342554443\n",
      "Depth: 11 Train Score: 0.9558563861094762 Validation Score: 0.8975868157739847\n",
      "Depth: 12 Train Score: 0.9661565626839317 Validation Score: 0.8928781636256622\n",
      "Depth: 13 Train Score: 0.9764567392583873 Validation Score: 0.8858151854031784\n",
      "Depth: 14 Train Score: 0.9823425544437905 Validation Score: 0.8834608593290171\n",
      "Depth: 15 Train Score: 0.9867569158328429 Validation Score: 0.8828722778104767\n"
     ]
    },
    {
     "data": {
      "text/plain": [
       "11"
      ]
     },
     "execution_count": 46,
     "metadata": {},
     "output_type": "execute_result"
    }
   ],
   "source": [
    "bestdepth=-1\n",
    "bestscore=0\n",
    "max_depth = 15\n",
    "\n",
    "for i in range(max_depth):\n",
    "    clf = tree.DecisionTreeClassifier(max_depth = i+1)\n",
    "    #fit the training sets\n",
    "    clf.fit(X_train,y_train)\n",
    "    #update trainscore\n",
    "    trainscore=clf.score(X_train, y_train)\n",
    "    #update valscore\n",
    "    valscore=clf.score(X_val, y_val)\n",
    "    print( 'Depth:', i+1, 'Train Score:', trainscore, 'Validation Score:', valscore)\n",
    "    if  valscore>bestscore  :\n",
    "        #update bestscore\n",
    "        bestscore=valscore\n",
    "        #update depth\n",
    "        bestdepth=i+1\n",
    "bestdepth"
   ]
  },
  {
   "cell_type": "markdown",
   "id": "b23f3c15",
   "metadata": {},
   "source": [
    "Depth of 11 is optimal but 3 looks more than enough, and better than our naive approach.\n",
    "We now retrain using the full training and validating data."
   ]
  },
  {
   "cell_type": "code",
   "execution_count": 49,
   "id": "8210d3e6",
   "metadata": {},
   "outputs": [],
   "source": [
    "X_trainval=X[:train_size + train_size + val_size,:]\n",
    "y_trainval = y[:train_size + train_size + val_size]"
   ]
  },
  {
   "cell_type": "code",
   "execution_count": 50,
   "id": "18f8d112",
   "metadata": {},
   "outputs": [
    {
     "data": {
      "text/html": [
       "<style>#sk-container-id-2 {color: black;background-color: white;}#sk-container-id-2 pre{padding: 0;}#sk-container-id-2 div.sk-toggleable {background-color: white;}#sk-container-id-2 label.sk-toggleable__label {cursor: pointer;display: block;width: 100%;margin-bottom: 0;padding: 0.3em;box-sizing: border-box;text-align: center;}#sk-container-id-2 label.sk-toggleable__label-arrow:before {content: \"▸\";float: left;margin-right: 0.25em;color: #696969;}#sk-container-id-2 label.sk-toggleable__label-arrow:hover:before {color: black;}#sk-container-id-2 div.sk-estimator:hover label.sk-toggleable__label-arrow:before {color: black;}#sk-container-id-2 div.sk-toggleable__content {max-height: 0;max-width: 0;overflow: hidden;text-align: left;background-color: #f0f8ff;}#sk-container-id-2 div.sk-toggleable__content pre {margin: 0.2em;color: black;border-radius: 0.25em;background-color: #f0f8ff;}#sk-container-id-2 input.sk-toggleable__control:checked~div.sk-toggleable__content {max-height: 200px;max-width: 100%;overflow: auto;}#sk-container-id-2 input.sk-toggleable__control:checked~label.sk-toggleable__label-arrow:before {content: \"▾\";}#sk-container-id-2 div.sk-estimator input.sk-toggleable__control:checked~label.sk-toggleable__label {background-color: #d4ebff;}#sk-container-id-2 div.sk-label input.sk-toggleable__control:checked~label.sk-toggleable__label {background-color: #d4ebff;}#sk-container-id-2 input.sk-hidden--visually {border: 0;clip: rect(1px 1px 1px 1px);clip: rect(1px, 1px, 1px, 1px);height: 1px;margin: -1px;overflow: hidden;padding: 0;position: absolute;width: 1px;}#sk-container-id-2 div.sk-estimator {font-family: monospace;background-color: #f0f8ff;border: 1px dotted black;border-radius: 0.25em;box-sizing: border-box;margin-bottom: 0.5em;}#sk-container-id-2 div.sk-estimator:hover {background-color: #d4ebff;}#sk-container-id-2 div.sk-parallel-item::after {content: \"\";width: 100%;border-bottom: 1px solid gray;flex-grow: 1;}#sk-container-id-2 div.sk-label:hover label.sk-toggleable__label {background-color: #d4ebff;}#sk-container-id-2 div.sk-serial::before {content: \"\";position: absolute;border-left: 1px solid gray;box-sizing: border-box;top: 0;bottom: 0;left: 50%;z-index: 0;}#sk-container-id-2 div.sk-serial {display: flex;flex-direction: column;align-items: center;background-color: white;padding-right: 0.2em;padding-left: 0.2em;position: relative;}#sk-container-id-2 div.sk-item {position: relative;z-index: 1;}#sk-container-id-2 div.sk-parallel {display: flex;align-items: stretch;justify-content: center;background-color: white;position: relative;}#sk-container-id-2 div.sk-item::before, #sk-container-id-2 div.sk-parallel-item::before {content: \"\";position: absolute;border-left: 1px solid gray;box-sizing: border-box;top: 0;bottom: 0;left: 50%;z-index: -1;}#sk-container-id-2 div.sk-parallel-item {display: flex;flex-direction: column;z-index: 1;position: relative;background-color: white;}#sk-container-id-2 div.sk-parallel-item:first-child::after {align-self: flex-end;width: 50%;}#sk-container-id-2 div.sk-parallel-item:last-child::after {align-self: flex-start;width: 50%;}#sk-container-id-2 div.sk-parallel-item:only-child::after {width: 0;}#sk-container-id-2 div.sk-dashed-wrapped {border: 1px dashed gray;margin: 0 0.4em 0.5em 0.4em;box-sizing: border-box;padding-bottom: 0.4em;background-color: white;}#sk-container-id-2 div.sk-label label {font-family: monospace;font-weight: bold;display: inline-block;line-height: 1.2em;}#sk-container-id-2 div.sk-label-container {text-align: center;}#sk-container-id-2 div.sk-container {/* jupyter's `normalize.less` sets `[hidden] { display: none; }` but bootstrap.min.css set `[hidden] { display: none !important; }` so we also need the `!important` here to be able to override the default hidden behavior on the sphinx rendered scikit-learn.org. See: https://github.com/scikit-learn/scikit-learn/issues/21755 */display: inline-block !important;position: relative;}#sk-container-id-2 div.sk-text-repr-fallback {display: none;}</style><div id=\"sk-container-id-2\" class=\"sk-top-container\"><div class=\"sk-text-repr-fallback\"><pre>DecisionTreeClassifier(max_depth=3)</pre><b>In a Jupyter environment, please rerun this cell to show the HTML representation or trust the notebook. <br />On GitHub, the HTML representation is unable to render, please try loading this page with nbviewer.org.</b></div><div class=\"sk-container\" hidden><div class=\"sk-item\"><div class=\"sk-estimator sk-toggleable\"><input class=\"sk-toggleable__control sk-hidden--visually\" id=\"sk-estimator-id-2\" type=\"checkbox\" checked><label for=\"sk-estimator-id-2\" class=\"sk-toggleable__label sk-toggleable__label-arrow\">DecisionTreeClassifier</label><div class=\"sk-toggleable__content\"><pre>DecisionTreeClassifier(max_depth=3)</pre></div></div></div></div></div>"
      ],
      "text/plain": [
       "DecisionTreeClassifier(max_depth=3)"
      ]
     },
     "execution_count": 50,
     "metadata": {},
     "output_type": "execute_result"
    }
   ],
   "source": [
    "my_best_depth = 3\n",
    "clf = tree.DecisionTreeClassifier(max_depth = my_best_depth)\n",
    "clf.fit(X_trainval, y_trainval)"
   ]
  },
  {
   "cell_type": "code",
   "execution_count": 52,
   "id": "b2868729",
   "metadata": {},
   "outputs": [
    {
     "name": "stdout",
     "output_type": "stream",
     "text": [
      "testing set score 0.8534432018834609\n"
     ]
    }
   ],
   "source": [
    "test_score = clf.score(X_test, y_test)\n",
    "print('testing set score', test_score)"
   ]
  },
  {
   "cell_type": "code",
   "execution_count": 53,
   "id": "e6fe5ecf",
   "metadata": {},
   "outputs": [
    {
     "name": "stdout",
     "output_type": "stream",
     "text": [
      "['Vintage', 'Size', 'ABV', 'Available', 'PricePerCl', 'Style_Red', 'Style_Rose', 'Style_White', 'Country_Argentina', 'Country_Armenia', 'Country_Australia', 'Country_Austria', 'Country_Azerbaijan', 'Country_Bulgaria', 'Country_Canada', 'Country_Chile', 'Country_China', 'Country_Czech Republic', 'Country_England', 'Country_France', 'Country_Georgia', 'Country_Germany', 'Country_Greece', 'Country_Hungary', 'Country_India', 'Country_Israel', 'Country_Italy', 'Country_Japan', 'Country_Lebanon', 'Country_Luxembourg', 'Country_Mixed', 'Country_Morocco', 'Country_New Zealand', 'Country_Portugal', 'Country_Slovakia', 'Country_Slovenia', 'Country_South Africa', 'Country_Spain', 'Country_Switzerland', 'Country_Syria', 'Country_Ukraine', 'Country_United States', 'Country_Uruguay']\n",
      "|--- Country_France <= 0.50\n",
      "|   |--- class: 0\n",
      "|--- Country_France >  0.50\n",
      "|   |--- PricePerCl <= 5.09\n",
      "|   |   |--- Vintage <= 2020.50\n",
      "|   |   |   |--- class: 0\n",
      "|   |   |--- Vintage >  2020.50\n",
      "|   |   |   |--- class: 1\n",
      "|   |--- PricePerCl >  5.09\n",
      "|   |   |--- ABV <= 12.55\n",
      "|   |   |   |--- class: 0\n",
      "|   |   |--- ABV >  12.55\n",
      "|   |   |   |--- class: 1\n",
      "\n"
     ]
    }
   ],
   "source": [
    "# Looks like we overfitted, let's look at the rules and see how complicated they are, \n",
    "# before we cut down the tree depth.\n",
    "df2 = df.copy()\n",
    "df2.drop(columns='is_burgundy', axis=1, inplace=True)\n",
    "feature_names = df2.columns.tolist()\n",
    "print(feature_names)\n",
    "tree_rules = export_text(clf, feature_names=feature_names)\n",
    "print(tree_rules)"
   ]
  },
  {
   "cell_type": "code",
   "execution_count": 55,
   "id": "eb58de03",
   "metadata": {},
   "outputs": [
    {
     "data": {
      "text/plain": [
       "'decision_tree.pdf'"
      ]
     },
     "execution_count": 55,
     "metadata": {},
     "output_type": "execute_result"
    }
   ],
   "source": [
    "import matplotlib.pyplot as plt\n",
    "import graphviz \n",
    "from sklearn.tree import export_graphviz\n",
    "class_names = [str(cls) for cls in clf.classes_]\n",
    "dot_data = export_graphviz(clf, out_file=None, \n",
    "                           feature_names=feature_names,  \n",
    "                           class_names=class_names,  \n",
    "                           filled=True, rounded=True,  \n",
    "                           special_characters=True)  \n",
    "graph = graphviz.Source(dot_data)  \n",
    "graph.render(\"decision_tree\")  # Saves the tree as a file\n",
    "graph.view()  # Opens the file in a viewer"
   ]
  },
  {
   "cell_type": "markdown",
   "id": "76e40231",
   "metadata": {},
   "source": [
    "# Conclusion\n",
    "The logic of testing on vintage doesnt make much sense so we should in fact be happy with a 2 level test, and the discriminating price per cl is about 5gbp."
   ]
  }
 ],
 "metadata": {
  "kernelspec": {
   "display_name": "Python 3 (ipykernel)",
   "language": "python",
   "name": "python3"
  },
  "language_info": {
   "codemirror_mode": {
    "name": "ipython",
    "version": 3
   },
   "file_extension": ".py",
   "mimetype": "text/x-python",
   "name": "python",
   "nbconvert_exporter": "python",
   "pygments_lexer": "ipython3",
   "version": "3.11.8"
  }
 },
 "nbformat": 4,
 "nbformat_minor": 5
}
